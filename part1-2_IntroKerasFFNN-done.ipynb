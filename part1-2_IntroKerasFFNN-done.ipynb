{
 "cells": [
  {
   "cell_type": "markdown",
   "metadata": {
    "slideshow": {
     "slide_type": "slide"
    }
   },
   "source": [
    "# Introduction to Training Neural Networks with Keras\n",
    "## And universal function approximation\n",
    "## IADS Summer School, 2nd August 2022\n",
    "\n",
    "### Dr Michael Fairbank, University of Essex, UK\n",
    "\n",
    "- Email: m.fairbank@essex.ac.uk\n",
    "- This is Jupyter Notebook 1.2 of the course"
   ]
  },
  {
   "cell_type": "markdown",
   "metadata": {
    "slideshow": {
     "slide_type": "slide"
    }
   },
   "source": [
    "## A simple 1D function\n",
    "\n",
    "- First build some datapoints that represent a simple 1D function, for the sake of a learning example..."
   ]
  },
  {
   "cell_type": "code",
   "execution_count": 1,
   "metadata": {
    "slideshow": {
     "slide_type": "fragment"
    }
   },
   "outputs": [],
   "source": [
    "import numpy as np\n",
    "import math\n",
    "import matplotlib.pyplot as plt\n",
    "\n",
    "# dataset for a simple regression problem (1 input 1 output):\n",
    "x_train=np.linspace(-2,2,100).astype(np.float32).reshape(100,1)\n",
    "y_train=(np.sin(x_train*math.pi)*0.3+x_train+-2).astype(np.float32).reshape(100,1)"
   ]
  },
  {
   "cell_type": "code",
   "execution_count": 2,
   "metadata": {
    "slideshow": {
     "slide_type": "slide"
    }
   },
   "outputs": [
    {
     "name": "stdout",
     "output_type": "stream",
     "text": [
      "x_train (100, 1) [[-2.       ]\n",
      " [-1.9595959]\n",
      " [-1.919192 ]\n",
      " [-1.8787879]\n",
      " [-1.8383838]\n",
      " [-1.7979798]\n",
      " [-1.7575758]\n",
      " [-1.7171717]\n",
      " [-1.6767677]\n",
      " [-1.6363636]]\n",
      "y_train (100, 1) [[-4.       ]\n",
      " [-3.9216182]\n",
      " [-3.8438475]\n",
      " [-3.7672892]\n",
      " [-3.692525 ]\n",
      " [-3.6201077]\n",
      " [-3.5505521]\n",
      " [-3.4843278]\n",
      " [-3.4218502]\n",
      " [-3.363474 ]]\n"
     ]
    }
   ],
   "source": [
    "print(\"x_train\",x_train.shape, x_train[0:10])\n",
    "print(\"y_train\",y_train.shape, y_train[0:10])"
   ]
  },
  {
   "cell_type": "code",
   "execution_count": 3,
   "metadata": {
    "slideshow": {
     "slide_type": "slide"
    }
   },
   "outputs": [
    {
     "data": {
      "text/plain": [
       "[<matplotlib.lines.Line2D at 0x16112157730>]"
      ]
     },
     "execution_count": 3,
     "metadata": {},
     "output_type": "execute_result"
    },
    {
     "data": {
      "image/png": "[encoded data removed]",
      "text/plain": [
       "<Figure size 432x288 with 1 Axes>"
      ]
     },
     "metadata": {
      "needs_background": "light"
     },
     "output_type": "display_data"
    }
   ],
   "source": [
    "# show training set\n",
    "plt.plot(x_train, y_train)"
   ]
  },
  {
   "cell_type": "markdown",
   "metadata": {
    "slideshow": {
     "slide_type": "slide"
    }
   },
   "source": [
    "## Build a neural-network model capable of learning this function, from the datapoints\n",
    "- Use Keras to build a 3-layer feed-forward network (i.e. with 2 hidden layers).\n",
    "<img src=\"./images/ffnn_3layers.svg\" alt=\"3-layer FFNN\" width=\"400\">"
   ]
  },
  {
   "cell_type": "code",
   "execution_count": 4,
   "metadata": {
    "slideshow": {
     "slide_type": "fragment"
    }
   },
   "outputs": [],
   "source": [
    "import tensorflow as tf\n",
    "from tensorflow import keras\n",
    "from tensorflow.keras import layers\n",
    "\n",
    "# Define Sequential model with 3 layers\n",
    "model = keras.Sequential(name=\"my_neural_network\")\n",
    "layer1=layers.Dense(10, activation=\"tanh\", input_shape=(1,))\n",
    "model.add(layer1)\n",
    "layer2=layers.Dense(10, activation=\"tanh\")\n",
    "model.add(layer2)\n",
    "layer3=layers.Dense(1)\n",
    "model.add(layer3)"
   ]
  },
  {
   "cell_type": "code",
   "execution_count": 5,
   "metadata": {
    "slideshow": {
     "slide_type": "slide"
    }
   },
   "outputs": [
    {
     "name": "stdout",
     "output_type": "stream",
     "text": [
      "Model: \"my_neural_network\"\n",
      "_________________________________________________________________\n",
      " Layer (type)                Output Shape              Param #   \n",
      "=================================================================\n",
      " dense (Dense)               (None, 10)                20        \n",
      "                                                                 \n",
      " dense_1 (Dense)             (None, 10)                110       \n",
      "                                                                 \n",
      " dense_2 (Dense)             (None, 1)                 11        \n",
      "                                                                 \n",
      "=================================================================\n",
      "Total params: 141\n",
      "Trainable params: 141\n",
      "Non-trainable params: 0\n",
      "_________________________________________________________________\n"
     ]
    }
   ],
   "source": [
    "model.summary()"
   ]
  },
  {
   "cell_type": "markdown",
   "metadata": {
    "slideshow": {
     "slide_type": "slide"
    }
   },
   "source": [
    "## Understanding the model architecture\n",
    "\n",
    "- The above model print out shows us this is a 3-layer neural network.  \n",
    "\n",
    "- The \"Output Shape\" shows us how many outputs each layer has.  The first dimension is the batch size (which is flexible, hence \"None\"), and the second dimension is the number of outputs for that layer.\n",
    "\n",
    "- We can see from the final layer's output shape how many outputs this network has.\n",
    "\n",
    "- We can see from line 7 of the code how many inputs this network has.\n",
    "\n",
    "**Questions:** \n",
    "\n",
    "1. How many inputs and how many outputs does this neural network have?  **Answer**: 1 input, 1 output\n",
    "2. Why do all of the output shapes start with \"None\"?  **Answer**:\n",
    "3. What is the \"rank\" of all of the output shapes?  **Answer**: 2\n",
    "\n"
   ]
  },
  {
   "cell_type": "markdown",
   "metadata": {
    "slideshow": {
     "slide_type": "slide"
    }
   },
   "source": [
    "## Understanding model layers\n",
    "\n",
    "- In this network layer1 and layer2 are called \"hidden layers\", because they are only used for the internal calculation of the network output.\n",
    "\n",
    "- Each layer is parameterised by one or more tensors.  Tensors are just multidimensional arrays of numbers, e.g. a matrix or a vector.\n",
    "    - E.g. a matrix of shape $5 \\times 5$ is a rank-2 tensor of shape=(5,5)\n",
    "\n",
    "- For each Dense layer, there is one weights matrix and one bias vector.  These can be seen below.  \n",
    "\n",
    "- They are initially created with random values.\n"
   ]
  },
  {
   "cell_type": "code",
   "execution_count": 6,
   "metadata": {
    "slideshow": {
     "slide_type": "slide"
    }
   },
   "outputs": [
    {
     "name": "stdout",
     "output_type": "stream",
     "text": [
      "layer1 weights [<tf.Variable 'dense/kernel:0' shape=(1, 10) dtype=float32, numpy=\n",
      "array([[-0.00558782, -0.33881232,  0.6210012 ,  0.6307512 ,  0.04912281,\n",
      "        -0.5926721 , -0.7228493 , -0.28578082,  0.7281539 ,  0.0386796 ]],\n",
      "      dtype=float32)>, <tf.Variable 'dense/bias:0' shape=(10,) dtype=float32, numpy=array([0., 0., 0., 0., 0., 0., 0., 0., 0., 0.], dtype=float32)>]\n"
     ]
    }
   ],
   "source": [
    "print(\"layer1 weights\",layer1.trainable_weights)"
   ]
  },
  {
   "cell_type": "markdown",
   "metadata": {
    "slideshow": {
     "slide_type": "fragment"
    }
   },
   "source": [
    "Question:\n",
    "\n",
    "1. How many parameters in W and b are there for the first layer? **Answer:** 10\n"
   ]
  },
  {
   "cell_type": "code",
   "execution_count": 7,
   "metadata": {
    "slideshow": {
     "slide_type": "slide"
    }
   },
   "outputs": [
    {
     "name": "stdout",
     "output_type": "stream",
     "text": [
      "layer2 weights [<tf.Variable 'dense_1/kernel:0' shape=(10, 10) dtype=float32, numpy=\n",
      "array([[ 1.4393628e-01, -2.7793810e-01,  3.5816568e-01,  3.9940643e-01,\n",
      "        -2.0672980e-01,  4.1793334e-01,  1.7637688e-01, -4.5239833e-01,\n",
      "         1.0077393e-01, -5.2470213e-01],\n",
      "       [ 1.4281309e-01, -4.1371331e-01, -2.2826010e-01,  3.4850198e-01,\n",
      "        -2.3506552e-01,  4.1140962e-01, -8.1304282e-02,  2.6223081e-01,\n",
      "        -4.4250947e-01,  1.3816106e-01],\n",
      "       [-4.4634354e-01, -2.5005588e-01, -1.8662614e-01, -3.7492943e-01,\n",
      "        -4.7776335e-01, -4.0887219e-01,  4.5657337e-01,  4.1626668e-01,\n",
      "         2.7459151e-01,  4.7705245e-01],\n",
      "       [ 1.6140699e-01, -1.9541138e-01, -4.8565772e-01, -4.0844190e-01,\n",
      "        -3.8213927e-01,  5.3727245e-01, -3.7052119e-01,  5.2034676e-01,\n",
      "         1.1252940e-02, -4.6249038e-01],\n",
      "       [ 2.4468720e-01,  4.8654282e-01, -4.2045918e-01, -4.4333494e-01,\n",
      "        -4.3468300e-01, -5.0781733e-01, -6.2320143e-02, -2.7916288e-01,\n",
      "         5.8623731e-02, -1.0881960e-02],\n",
      "       [ 5.1029050e-01, -5.0801414e-01,  2.2258359e-01, -4.6168983e-02,\n",
      "        -1.9107708e-01,  2.3088109e-01,  4.3939930e-01, -2.7729625e-01,\n",
      "        -2.6942343e-01,  2.7068096e-01],\n",
      "       [ 1.7092198e-01,  2.3197973e-01,  1.5472823e-01,  4.7150588e-01,\n",
      "         4.0242976e-01, -2.2064516e-01,  4.0798485e-01, -1.5681908e-01,\n",
      "         5.2692926e-01,  2.2111934e-01],\n",
      "       [-5.4470915e-01,  4.0507716e-01,  1.3945830e-01,  8.2478404e-02,\n",
      "         4.4539887e-01,  4.6011388e-02,  4.9451172e-01, -4.0228286e-01,\n",
      "         2.2891212e-01, -1.7867404e-01],\n",
      "       [-1.7983770e-01, -2.8918192e-01,  9.7774208e-02, -3.4417206e-01,\n",
      "         8.8345528e-02, -3.7386918e-01, -2.7958101e-01,  3.6009717e-01,\n",
      "        -2.4878919e-01,  4.6345329e-01],\n",
      "       [-4.2854428e-02, -1.3286793e-01,  3.2345086e-01, -1.8202150e-01,\n",
      "         3.8266182e-05,  2.2280431e-01,  2.1229386e-03,  4.0395451e-01,\n",
      "         4.3962091e-01,  2.8179079e-01]], dtype=float32)>, <tf.Variable 'dense_1/bias:0' shape=(10,) dtype=float32, numpy=array([0., 0., 0., 0., 0., 0., 0., 0., 0., 0.], dtype=float32)>]\n"
     ]
    }
   ],
   "source": [
    "print(\"layer2 weights\",layer2.trainable_weights)"
   ]
  },
  {
   "cell_type": "code",
   "execution_count": 8,
   "metadata": {
    "slideshow": {
     "slide_type": "slide"
    }
   },
   "outputs": [
    {
     "name": "stdout",
     "output_type": "stream",
     "text": [
      "layer3 weights [<tf.Variable 'dense_2/kernel:0' shape=(10, 1) dtype=float32, numpy=\n",
      "array([[-0.12118071],\n",
      "       [-0.50428814],\n",
      "       [ 0.642569  ],\n",
      "       [-0.1413629 ],\n",
      "       [ 0.02820879],\n",
      "       [ 0.15249085],\n",
      "       [ 0.58301514],\n",
      "       [ 0.07984501],\n",
      "       [-0.45706913],\n",
      "       [ 0.31245905]], dtype=float32)>, <tf.Variable 'dense_2/bias:0' shape=(1,) dtype=float32, numpy=array([0.], dtype=float32)>]\n"
     ]
    }
   ],
   "source": [
    "print(\"layer3 weights\",layer3.trainable_weights)"
   ]
  },
  {
   "cell_type": "markdown",
   "metadata": {
    "slideshow": {
     "slide_type": "slide"
    }
   },
   "source": [
    "**Questions:**\n",
    "\n",
    "1. How many parameters in W and b are there for the second layer?  **Answer**: 110\n",
    "\n",
    "2. Do these match what the model.summary() said (on previous code block) **Answer**: \n"
   ]
  },
  {
   "cell_type": "markdown",
   "metadata": {
    "slideshow": {
     "slide_type": "slide"
    }
   },
   "source": [
    "- Each layer acts as a callable function, and the whole model we have created acts as a callable function.\n",
    "\n",
    "- Layer1 has a weights matrix W (with shape \\[1,10\\]) and a bias vector b (with shape \\[10\\]).  It computes its output $y$ for an input $x$ by $y=tanh(xW+b)$"
   ]
  },
  {
   "cell_type": "code",
   "execution_count": 9,
   "metadata": {
    "slideshow": {
     "slide_type": "slide"
    }
   },
   "outputs": [
    {
     "name": "stdout",
     "output_type": "stream",
     "text": [
      "tf.Tensor(\n",
      "[[-0.02234754 -0.8752866   0.9861821   0.9872124   0.19400091 -0.9826978\n",
      "  -0.9938586  -0.8154632   0.9941132   0.15349555]], shape=(1, 10), dtype=float32)\n"
     ]
    }
   ],
   "source": [
    "# Try putting a single input into the layer 1\n",
    "print(layer1(np.array([[4]])))"
   ]
  },
  {
   "cell_type": "markdown",
   "metadata": {
    "slideshow": {
     "slide_type": "fragment"
    }
   },
   "source": [
    "Can you verify that this matches $y=tanh(xW+b)$?  \n",
    "- **Do this**: Fill in the missing line of code below to help you, and check you get the same output as above."
   ]
  },
  {
   "cell_type": "code",
   "execution_count": 13,
   "metadata": {
    "slideshow": {
     "slide_type": "fragment"
    }
   },
   "outputs": [
    {
     "name": "stdout",
     "output_type": "stream",
     "text": [
      "tf.Tensor(\n",
      "[[-0.02234754 -0.8752866   0.9861821   0.9872124   0.19400091 -0.9826978\n",
      "  -0.9938586  -0.8154632   0.9941132   0.15349555]], shape=(1, 10), dtype=float32)\n"
     ]
    }
   ],
   "source": [
    "x=tf.constant([[4.0]])\n",
    "W=layer1.trainable_weights[0] # This is the weight matrix of shape [1,10]\n",
    "b=layer1.trainable_weights[1] # This is the bias vector of shape [10]\n",
    "#print(tf.matmul(x,W))  # TODO fix this line using the tensorflow functions tf.tanh(A) and tf.matmul(A,B) and the tf.add(A,B) functions. \n",
    "print(tf.tanh(tf.add(tf.matmul(x,W),b)))"
   ]
  },
  {
   "cell_type": "markdown",
   "metadata": {
    "slideshow": {
     "slide_type": "fragment"
    }
   },
   "source": [
    "- Note that in the final add in the above code, tensorflow used [\"broadcasting\"](https://numpy.org/devdocs/user/theory.broadcasting.html) to allow it to add a rank-2 tensor (a 2d array) to a rank-1 tensor (a 1d array)."
   ]
  },
  {
   "cell_type": "markdown",
   "metadata": {
    "slideshow": {
     "slide_type": "slide"
    }
   },
   "source": [
    "- The whole network acts as a function too.  It just puts the input into the first layer, and then the output of that into the next layer, and so on.\n",
    "\n",
    "\n",
    "**Questions:** \n",
    "\n",
    "1. If the $k$th layer can be written as a function $y=tanh(x.Wk+bk)$, then how could we write the whole network as a single mathematical function?  **Answer:**  (Enter in markdown here):\n",
    "y=tahn(tahn((tanh(x.W1+b1)).W2+b2)).W3+b3)\n",
    "\n",
    "2. Why do we need the tanh functions after every layer?  What would happen if we removed them?  **Answer:** We would have W1.W2.W3 = single matrix, and the whole neural network would be equivalent to a single-layer neural network \n"
   ]
  },
  {
   "cell_type": "markdown",
   "metadata": {
    "slideshow": {
     "slide_type": "slide"
    }
   },
   "source": [
    "- The neural network expects its input to be a rank-2 tensor (i.e. a matrix)\n",
    "- Each row of that matrix corresponds to a different input vector."
   ]
  },
  {
   "cell_type": "code",
   "execution_count": 14,
   "metadata": {
    "slideshow": {
     "slide_type": "fragment"
    }
   },
   "outputs": [
    {
     "name": "stdout",
     "output_type": "stream",
     "text": [
      "tf.Tensor([[-0.6336988]], shape=(1, 1), dtype=float32)\n"
     ]
    }
   ],
   "source": [
    "# Try putting a single input into the whole network\n",
    "print(model(np.array([[4]])))"
   ]
  },
  {
   "cell_type": "code",
   "execution_count": 15,
   "metadata": {
    "slideshow": {
     "slide_type": "fragment"
    }
   },
   "outputs": [
    {
     "name": "stdout",
     "output_type": "stream",
     "text": [
      "tf.Tensor(\n",
      "[[-0.6336987]\n",
      " [-0.4937908]], shape=(2, 1), dtype=float32)\n"
     ]
    }
   ],
   "source": [
    "# Try putting a \"batch\" of 2 input vectors through the network\n",
    "print(model(np.array([[4],[2]])))"
   ]
  },
  {
   "cell_type": "markdown",
   "metadata": {
    "slideshow": {
     "slide_type": "fragment"
    }
   },
   "source": [
    "- Notice how even though the model function accepts 1 input, it can process two 1d-vector inputs at the same time.  They are processed independently of each other - we see we get the same output now when we push \"4\" though the model as when we pushed \"4\" though on its own."
   ]
  },
  {
   "cell_type": "code",
   "execution_count": 16,
   "metadata": {
    "slideshow": {
     "slide_type": "slide"
    }
   },
   "outputs": [
    {
     "name": "stdout",
     "output_type": "stream",
     "text": [
      "input vectors [[-2.       ]\n",
      " [-1.9595959]\n",
      " [-1.919192 ]\n",
      " [-1.8787879]\n",
      " [-1.8383838]\n",
      " [-1.7979798]\n",
      " [-1.7575758]\n",
      " [-1.7171717]\n",
      " [-1.6767677]\n",
      " [-1.6363636]]\n",
      "output vectors tf.Tensor(\n",
      "[[0.49379092]\n",
      " [0.48877978]\n",
      " [0.48363253]\n",
      " [0.4783441 ]\n",
      " [0.47291058]\n",
      " [0.4673267 ]\n",
      " [0.46158764]\n",
      " [0.45568815]\n",
      " [0.44962278]\n",
      " [0.44338545]], shape=(10, 1), dtype=float32)\n"
     ]
    }
   ],
   "source": [
    "# Let's put a whole \"batch\" of x values through:\n",
    "print(\"input vectors\", x_train[0:10,:])\n",
    "print(\"output vectors\", model(np.array(x_train[0:10].reshape(10,1))))"
   ]
  },
  {
   "cell_type": "code",
   "execution_count": 17,
   "metadata": {
    "slideshow": {
     "slide_type": "slide"
    }
   },
   "outputs": [
    {
     "data": {
      "text/plain": [
       "<matplotlib.legend.Legend at 0x1613c5bfbb0>"
      ]
     },
     "execution_count": 17,
     "metadata": {},
     "output_type": "execute_result"
    },
    {
     "data": {
      "image/png": "[encoded data removed]",
      "text/plain": [
       "<Figure size 432x288 with 1 Axes>"
      ]
     },
     "metadata": {
      "needs_background": "light"
     },
     "output_type": "display_data"
    }
   ],
   "source": [
    "# Let's plot the model's current behaviour:\n",
    "plt.plot(x_train, y_train, label = \"targets\")\n",
    "plt.plot(x_train, model(x_train).numpy(),label=\"model output\")\n",
    "plt.legend()"
   ]
  },
  {
   "cell_type": "markdown",
   "metadata": {
    "slideshow": {
     "slide_type": "fragment"
    }
   },
   "source": [
    "- The above graph shows the neural network is not doing what we want it to yet\n",
    "    - because we've just build our network with entirely random weights.  "
   ]
  },
  {
   "cell_type": "markdown",
   "metadata": {
    "slideshow": {
     "slide_type": "slide"
    }
   },
   "source": [
    "## Training the neural network\n",
    "\n",
    "So next we'll \"train\" the network, i.e. change the values of its weights so that its outputs match the target curve.  Note, that by the universal function approximation theorem for neural networks, if we have enough weights and hidden layers, then we can in theory learn any function to arbitrary accuracy.  \n",
    "\n",
    "There is no closed-form solution to this \"training\" problem, so we need to use an iterative numerical method.\n",
    "\n",
    "First we define a loss function which we want to minimise with respect to all of the trainable variables in the neural network.\n",
    "\n"
   ]
  },
  {
   "cell_type": "code",
   "execution_count": 18,
   "metadata": {
    "slideshow": {
     "slide_type": "fragment"
    }
   },
   "outputs": [],
   "source": [
    "model.compile(\n",
    "    optimizer=keras.optimizers.Adam(0.01),  # Optimizer\n",
    "    # Loss function to minimize\n",
    "    loss=keras.losses.MeanSquaredError(),\n",
    "    # List of metrics to monitor\n",
    "    metrics=[keras.metrics.MeanSquaredError()],\n",
    ")"
   ]
  },
  {
   "cell_type": "markdown",
   "metadata": {
    "slideshow": {
     "slide_type": "slide"
    }
   },
   "source": [
    "Next we run the iterative procedure.  Here we say we're going to run a full pass through the training set (all of the elements of x_train), 1000 times..."
   ]
  },
  {
   "cell_type": "code",
   "execution_count": 23,
   "metadata": {
    "slideshow": {
     "slide_type": "fragment"
    }
   },
   "outputs": [],
   "source": [
    "history = model.fit(\n",
    "    x_train,\n",
    "    y_train,\n",
    "    batch_size=len(x_train),\n",
    "    epochs=5000, verbose=0\n",
    ")"
   ]
  },
  {
   "cell_type": "markdown",
   "metadata": {
    "slideshow": {
     "slide_type": "slide"
    }
   },
   "source": [
    "Now we see how the neural network's output has (hopefully) improved..."
   ]
  },
  {
   "cell_type": "code",
   "execution_count": 24,
   "metadata": {
    "slideshow": {
     "slide_type": "fragment"
    }
   },
   "outputs": [
    {
     "data": {
      "text/plain": [
       "<matplotlib.legend.Legend at 0x1613da64c40>"
      ]
     },
     "execution_count": 24,
     "metadata": {},
     "output_type": "execute_result"
    },
    {
     "data": {
      "image/png": "[encoded data removed]",
      "text/plain": [
       "<Figure size 432x288 with 1 Axes>"
      ]
     },
     "metadata": {
      "needs_background": "light"
     },
     "output_type": "display_data"
    }
   ],
   "source": [
    "plt.plot(x_train, y_train, label = \"targets\")\n",
    "plt.plot(x_train, model(x_train).numpy(),label=\"model output\")\n",
    "plt.legend()"
   ]
  },
  {
   "cell_type": "markdown",
   "metadata": {
    "slideshow": {
     "slide_type": "fragment"
    }
   },
   "source": [
    "Run the previous 2 cells again to train the network a bit more.  \n",
    "\n",
    "We can see the universal function approximation capability of the neural network in action."
   ]
  },
  {
   "cell_type": "markdown",
   "metadata": {
    "slideshow": {
     "slide_type": "slide"
    }
   },
   "source": [
    "Next we'll view how some of the weights have changed from earlier, by the training process"
   ]
  },
  {
   "cell_type": "code",
   "execution_count": 25,
   "metadata": {
    "slideshow": {
     "slide_type": "fragment"
    }
   },
   "outputs": [
    {
     "name": "stdout",
     "output_type": "stream",
     "text": [
      "layer1 weights [<tf.Variable 'dense/kernel:0' shape=(1, 10) dtype=float32, numpy=\n",
      "array([[ 0.44956174, -0.4866844 ,  0.31110954,  0.78185153, -0.20983717,\n",
      "        -0.5264176 , -0.38287115, -0.41639566,  0.4240349 ,  0.22545634]],\n",
      "      dtype=float32)>, <tf.Variable 'dense/bias:0' shape=(10,) dtype=float32, numpy=\n",
      "array([-0.5611191 , -0.49550885, -0.17854537,  0.8795345 ,  0.3175945 ,\n",
      "       -0.46460056,  0.21843486,  0.6287431 , -0.2716014 , -0.3665065 ],\n",
      "      dtype=float32)>]\n"
     ]
    }
   ],
   "source": [
    "print(\"layer1 weights\",layer1.trainable_weights)"
   ]
  },
  {
   "cell_type": "markdown",
   "metadata": {
    "slideshow": {
     "slide_type": "slide"
    }
   },
   "source": [
    "## Understanding the Training Objective, and Loss Function"
   ]
  },
  {
   "cell_type": "markdown",
   "metadata": {
    "slideshow": {
     "slide_type": "fragment"
    }
   },
   "source": [
    "These weights have changed - because the training process works by iteratively adjusting the weights to perform gradient descent on the \"loss\" function.  Here we used the Mean Squared Error, so we have minimised\n",
    "$$L=(1/N)\\sum_{k=1}^N (f({x}_k,w)-y_k)^2$$\n",
    "with respect to all of the weights $w$, where $w=$(layer1.traininable_weights, layer2.trainable_weights, layer3.trainable_weights), and where $f$ is the neural network model, and $(x_k, y_k)$ are the $k$th training point's $x$ and (target) $y$ value.\n",
    "\n",
    "We can plot how $L$ decreased over time during training..."
   ]
  },
  {
   "cell_type": "code",
   "execution_count": 26,
   "metadata": {
    "slideshow": {
     "slide_type": "slide"
    }
   },
   "outputs": [
    {
     "data": {
      "text/plain": [
       "Text(0.5, 0, 'epoch')"
      ]
     },
     "execution_count": 26,
     "metadata": {},
     "output_type": "execute_result"
    },
    {
     "data": {
      "image/png": "[encoded data removed]",
      "text/plain": [
       "<Figure size 432x288 with 1 Axes>"
      ]
     },
     "metadata": {
      "needs_background": "light"
     },
     "output_type": "display_data"
    }
   ],
   "source": [
    "plt.plot(history.history['loss'])\n",
    "plt.title('model loss')\n",
    "plt.yscale('log')\n",
    "plt.ylabel('loss')\n",
    "plt.xlabel('epoch')"
   ]
  },
  {
   "cell_type": "markdown",
   "metadata": {
    "slideshow": {
     "slide_type": "slide"
    }
   },
   "source": [
    "## Saving your network\n",
    "\n",
    "- We can save our final model, and its weights and biases, as follows:"
   ]
  },
  {
   "cell_type": "code",
   "execution_count": 27,
   "metadata": {
    "slideshow": {
     "slide_type": "fragment"
    }
   },
   "outputs": [
    {
     "name": "stdout",
     "output_type": "stream",
     "text": [
      "INFO:tensorflow:Assets written to: saved_model\\assets\n"
     ]
    }
   ],
   "source": [
    "model.save('saved_model')"
   ]
  },
  {
   "cell_type": "markdown",
   "metadata": {
    "slideshow": {
     "slide_type": "slide"
    }
   },
   "source": [
    "- We can then load it back at a later date with..."
   ]
  },
  {
   "cell_type": "code",
   "execution_count": 28,
   "metadata": {
    "slideshow": {
     "slide_type": "fragment"
    }
   },
   "outputs": [
    {
     "name": "stdout",
     "output_type": "stream",
     "text": [
      "Model: \"my_neural_network\"\n",
      "_________________________________________________________________\n",
      " Layer (type)                Output Shape              Param #   \n",
      "=================================================================\n",
      " dense (Dense)               (None, 10)                20        \n",
      "                                                                 \n",
      " dense_1 (Dense)             (None, 10)                110       \n",
      "                                                                 \n",
      " dense_2 (Dense)             (None, 1)                 11        \n",
      "                                                                 \n",
      "=================================================================\n",
      "Total params: 141\n",
      "Trainable params: 141\n",
      "Non-trainable params: 0\n",
      "_________________________________________________________________\n"
     ]
    }
   ],
   "source": [
    "model2 = keras.models.load_model('saved_model') # just need to give it a folder name here.\n",
    "model2.summary()"
   ]
  },
  {
   "cell_type": "markdown",
   "metadata": {
    "slideshow": {
     "slide_type": "slide"
    }
   },
   "source": [
    "## Further Challenges\n",
    "\n",
    "If you get time today then:\n",
    "\n",
    "- What happens if we put a tanh activation function into the final layer?  Try it?  What problems do we get for learning this particular dataset?  **Answer:** \n",
    "\n",
    "- How many hidden layers should we have?  Try removing layer 1 and layer 2, so the neural network becomes a simple linear function, and retrain it.  What happens then?  **Answer:**\n",
    "\n",
    "- What will happen to the function approximation capabilities of this network if we increase the number of nodes in each hidden layer?  **Answer:**"
   ]
  },
  {
   "cell_type": "markdown",
   "metadata": {
    "slideshow": {
     "slide_type": "fragment"
    }
   },
   "source": [
    "## Follow-up Reading\n",
    "\n",
    "- Learn more about the [keras train and evaluate](https://www.tensorflow.org/guide/keras/train_and_evaluate) process.\n",
    "\n",
    "-  For most learning tasks you need a validation set too, and you can use it to check you are not overfitting the data.  See [overfit and underfit](https://www.tensorflow.org/tutorials/keras/overfit_and_underfit)\n"
   ]
  }
 ],
 "metadata": {
  "kernelspec": {
   "display_name": "Python 3 (ipykernel)",
   "language": "python",
   "name": "python3"
  },
  "language_info": {
   "codemirror_mode": {
    "name": "ipython",
    "version": 3
   },
   "file_extension": ".py",
   "mimetype": "text/x-python",
   "name": "python",
   "nbconvert_exporter": "python",
   "pygments_lexer": "ipython3",
   "version": "3.10.5"
  }
 },
 "nbformat": 4,
 "nbformat_minor": 4
}
