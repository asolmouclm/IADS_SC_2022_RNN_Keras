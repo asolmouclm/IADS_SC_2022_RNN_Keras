{
 "cells": [
  {
   "cell_type": "markdown",
   "metadata": {
    "slideshow": {
     "slide_type": "slide"
    }
   },
   "source": [
    "# Introduction to LSTMs with Keras\n",
    "## IADS Summer School, 2nd August 2021\n",
    "\n",
    "### Dr Michael Fairbank, University of Essex, UK\n",
    "\n",
    "- Email: m.fairbank@essex.ac.uk\n",
    "- This is Jupyter Notebook 2.2 of the course"
   ]
  },
  {
   "cell_type": "markdown",
   "metadata": {
    "slideshow": {
     "slide_type": "slide"
    }
   },
   "source": [
    "## Max-Min time sequence (revisited)\n",
    "We'll use the same dataset as before, but this time we'll use a long time_sequence_length (to make it harder).  This will motivate the introduction of LSTMs."
   ]
  },
  {
   "cell_type": "code",
   "execution_count": 20,
   "metadata": {
    "slideshow": {
     "slide_type": "fragment"
    }
   },
   "outputs": [],
   "source": [
    "import numpy as np\n",
    "\n",
    "time_sequence_length=60 # Longer time sequence than before (to make this problem harder)\n",
    "training_set_size=10000\n",
    "epochs=30\n",
    "x_train=np.random.rand(training_set_size,time_sequence_length) # builds a matrix of random floats in [0,1)\n",
    "x_train=x_train*2-1 # rescales numbers to be between -1 and +1\n",
    "x_train=x_train*(np.random.rand(training_set_size,1)+0.5) # rescales each row so each row has a different range.  Uses broadcasting to make this multiplication work.\n",
    "x_train=x_train+(np.random.rand(training_set_size,1)*2-1) # shifts the mean of each row. Uses broadcasting.\n",
    "y_train=np.stack([np.max(x_train, axis=1),np.min(x_train, axis=1)],axis=1) # This finds the maximum of each row."
   ]
  },
  {
   "cell_type": "markdown",
   "metadata": {
    "slideshow": {
     "slide_type": "slide"
    }
   },
   "source": [
    "- We can check these numpy arrays are doing what they should.  First print sample 0 and its labels:"
   ]
  },
  {
   "cell_type": "code",
   "execution_count": 21,
   "metadata": {
    "slideshow": {
     "slide_type": "fragment"
    }
   },
   "outputs": [
    {
     "name": "stdout",
     "output_type": "stream",
     "text": [
      "x_train, sample 0 [ 0.32116246 -0.52957432 -0.93377436 -0.46906274 -0.68082338 -0.54110417\n",
      " -0.42076286  0.61081712  0.41634038 -0.12115138  0.6198787  -0.23864639\n",
      "  0.43903823 -0.84664769  0.50543361  0.01412869 -0.35621574 -0.08905062\n",
      " -0.06694192  0.12170168 -0.84704932  0.4545934   0.49246575 -0.76508928\n",
      " -0.4128079  -0.21974212 -0.22877849 -0.18524984  0.58348306 -0.64465852\n",
      "  0.27963832  0.43077721 -0.72187467 -0.38350002 -0.06143745 -0.86765131\n",
      " -0.77830356  0.24434558  0.13566132 -0.43921231 -0.89824956 -0.69506804\n",
      "  0.07009086 -0.5300767   0.37226584  0.37869669  0.52403377 -0.44448152\n",
      "  0.38688263  0.66460739 -0.76537528  0.40405638 -0.51734334 -0.71624589\n",
      "  0.3934884  -0.50241272  0.70384127  0.39871896 -0.59137418 -0.76800124]\n",
      "y_train, sample 0 [ 0.70384127 -0.93377436]\n"
     ]
    }
   ],
   "source": [
    "print(\"x_train, sample 0\",x_train[0]) # This is the first training list of numbers\n",
    "print(\"y_train, sample 0\",y_train[0]) # This should show the max and min"
   ]
  },
  {
   "cell_type": "code",
   "execution_count": 22,
   "metadata": {
    "slideshow": {
     "slide_type": "slide"
    }
   },
   "outputs": [
    {
     "name": "stdout",
     "output_type": "stream",
     "text": [
      "(10000, 60)\n",
      "(10000, 60, 1)\n",
      "(10000, 2)\n",
      "(10000, 2)\n"
     ]
    }
   ],
   "source": [
    "#Reshape the data as required for a Keras RNN:...\n",
    "input_vector_length=1\n",
    "print(x_train.shape)\n",
    "x_train=x_train.reshape(training_set_size,time_sequence_length,input_vector_length).astype(np.float32)\n",
    "print(x_train.shape)\n",
    "\n",
    "output_vector_length=2 \n",
    "print(y_train.shape)\n",
    "y_train=y_train.reshape(training_set_size,output_vector_length).astype(np.float32)\n",
    "print(y_train.shape)\n"
   ]
  },
  {
   "cell_type": "markdown",
   "metadata": {
    "slideshow": {
     "slide_type": "slide"
    }
   },
   "source": [
    "## Build a LSTM RNN to process this input tensor\n",
    "\n",
    "Now we will use Keras to build a LSTM recurrent neural network to process a time sequence.\n",
    "\n",
    "- LSTMs were created by Sepp Hochreiter and Jürgen Schmidhuber in 1997, to try to solve the problem of the hidden-vector's information decaying in long time-sequences in RNNs.  Hence the name \"Long Short Term Memory\" (LSTM).\n",
    "\n",
    "- LSTMs are still RNNs - they are not something different!\n",
    "\n",
    "- They use extra \"memory gates\" to make it harder for information to get erased from the recurrent hidden nodes.\n",
    "\n",
    "- Letting information be held onto for longer like this stops learning process from getting stuck.  Hochreiter and Schmidhuber refer to it as solving the \"vanishing gradients\" problem, which refers to solving the fact that learning gradients decay rapidly in deep simpleRNNs.\n",
    "\n",
    "The code below has similarities to the previous hand-built RNN, but with LSTM enhancements:"
   ]
  },
  {
   "cell_type": "code",
   "execution_count": 23,
   "metadata": {
    "slideshow": {
     "slide_type": "slide"
    }
   },
   "outputs": [],
   "source": [
    "import tensorflow as tf\n",
    "from tensorflow import keras\n",
    "from tensorflow.keras import layers\n",
    "class HandBuiltLSTMModel(keras.Model):\n",
    "    def __init__(self, num_hidden_nodes,  num_outputs):\n",
    "        super(HandBuiltLSTMModel, self).__init__()\n",
    "        self.num_hidden_nodes=num_hidden_nodes\n",
    "        self.main_layer=layers.Dense(self.num_hidden_nodes*4,activation=None)\n",
    "        self.output_layer=layers.Dense(num_outputs)\n",
    "        \n",
    "    def call(self, inputs):\n",
    "        x=inputs\n",
    "        batch_size=inputs.shape[0]\n",
    "        hidden_h=tf.fill([batch_size, self.num_hidden_nodes], 0.0)\n",
    "        hidden_c=tf.fill([batch_size, self.num_hidden_nodes], 0.0)\n",
    "        for t in range(time_sequence_length):\n",
    "            x=tf.concat([inputs[:,t,:],hidden_h],axis=1)\n",
    "            layer_output=self.main_layer(x)\n",
    "            # The next line splits the layer_output tensor from shape [batch_size,self.num_hidden_nodes*4]\n",
    "            # into 4 tensor variables, each of shape [batch_size,self.num_hidden_nodes]\n",
    "            input_gate, new_value, forget_gate, output_gate = tf.split(value=layer_output, \n",
    "                        num_or_size_splits=4, axis=1)\n",
    "            forget_bias_tensor = 1.0\n",
    "            hidden_c = ((hidden_c * tf.sigmoid(forget_gate+forget_bias_tensor)) + \n",
    "                     (tf.sigmoid(input_gate) * tf.tanh(new_value)))\n",
    "            hidden_h = tf.tanh(hidden_c) * tf.sigmoid(output_gate)\n",
    "        output_tensor=self.output_layer(hidden_h)\n",
    "        return output_tensor\n",
    "\n",
    "model_handbuilt_lstm = HandBuiltLSTMModel(num_hidden_nodes=20, num_outputs=output_vector_length)"
   ]
  },
  {
   "cell_type": "markdown",
   "metadata": {
    "slideshow": {
     "slide_type": "slide"
    }
   },
   "source": [
    "- This hand-built model executes the usual RNN loop, while also implementing the LSTM equations\n",
    "- Note that the LSTM has 4 times as many weights as the simpleRNN - so will run slower per iteration.  See line 9 to see the *4.\n",
    "- **Try this:** Study the LSTM equations (lines of code) above, and see if you can figure out how it is possible for the hidden state $c$ to be updated, and how the hidden state $h$ is a partial view of $c$\n",
    "    - In understanding the LSTM equations, be aware of what the [sigmoid function](https://en.wikipedia.org/wiki/Sigmoid_function) is, and what its range is (i.e. what its maximum and minimum output values are).\n",
    "    - Also note that in lines 25-27, the * operator means elementwise multiplication of two tensors.\n",
    "- **Questions**: \n",
    "    - Why is the forget_gate_bias set to 1?  What effect will that have?  **Answer** TODO Para intentar estar siempre en la parte positiva de la funcion sigmoidal\n"
   ]
  },
  {
   "cell_type": "code",
   "execution_count": 24,
   "metadata": {
    "slideshow": {
     "slide_type": "slide"
    }
   },
   "outputs": [
    {
     "name": "stdout",
     "output_type": "stream",
     "text": [
      "tf.Tensor([[0.00896737 0.02674744]], shape=(1, 2), dtype=float32)\n"
     ]
    }
   ],
   "source": [
    "# Try putting a single input into the network\n",
    "print(model_handbuilt_lstm(x_train[0:1,:,:]))"
   ]
  },
  {
   "cell_type": "code",
   "execution_count": 25,
   "metadata": {
    "slideshow": {
     "slide_type": "fragment"
    }
   },
   "outputs": [
    {
     "name": "stdout",
     "output_type": "stream",
     "text": [
      "tf.Tensor(\n",
      "[[ 0.00896736  0.02674745]\n",
      " [ 0.04457615 -0.22455907]], shape=(2, 2), dtype=float32)\n"
     ]
    }
   ],
   "source": [
    "# Try putting a \"batch\" of 2 input vectors through the network\n",
    "print(model_handbuilt_lstm(x_train[0:2,:,:]))"
   ]
  },
  {
   "cell_type": "markdown",
   "metadata": {
    "slideshow": {
     "slide_type": "slide"
    }
   },
   "source": [
    "## Training the neural network\n",
    "\n",
    "So next we'll \"train\" the network, in the usual keras way..."
   ]
  },
  {
   "cell_type": "code",
   "execution_count": 26,
   "metadata": {
    "slideshow": {
     "slide_type": "fragment"
    }
   },
   "outputs": [
    {
     "name": "stdout",
     "output_type": "stream",
     "text": [
      "Epoch 1/30\n",
      "100/100 [==============================] - 3s 5ms/step - loss: 0.1567 - mean_absolute_error: 0.3011\n",
      "Epoch 2/30\n",
      "100/100 [==============================] - 0s 5ms/step - loss: 0.0797 - mean_absolute_error: 0.2376\n",
      "Epoch 3/30\n",
      "100/100 [==============================] - 0s 5ms/step - loss: 0.0186 - mean_absolute_error: 0.1041\n",
      "Epoch 4/30\n",
      "100/100 [==============================] - 0s 5ms/step - loss: 0.0101 - mean_absolute_error: 0.0789\n",
      "Epoch 5/30\n",
      "100/100 [==============================] - 0s 5ms/step - loss: 0.0089 - mean_absolute_error: 0.0736\n",
      "Epoch 6/30\n",
      "100/100 [==============================] - 0s 5ms/step - loss: 0.0080 - mean_absolute_error: 0.0705\n",
      "Epoch 7/30\n",
      "100/100 [==============================] - 0s 5ms/step - loss: 0.0065 - mean_absolute_error: 0.0632\n",
      "Epoch 8/30\n",
      "100/100 [==============================] - 0s 5ms/step - loss: 0.0061 - mean_absolute_error: 0.0613\n",
      "Epoch 9/30\n",
      "100/100 [==============================] - 0s 5ms/step - loss: 0.0056 - mean_absolute_error: 0.0591\n",
      "Epoch 10/30\n",
      "100/100 [==============================] - 0s 5ms/step - loss: 0.0052 - mean_absolute_error: 0.0567\n",
      "Epoch 11/30\n",
      "100/100 [==============================] - 0s 5ms/step - loss: 0.0051 - mean_absolute_error: 0.0564\n",
      "Epoch 12/30\n",
      "100/100 [==============================] - 0s 5ms/step - loss: 0.0047 - mean_absolute_error: 0.0542\n",
      "Epoch 13/30\n",
      "100/100 [==============================] - 0s 5ms/step - loss: 0.0045 - mean_absolute_error: 0.0529\n",
      "Epoch 14/30\n",
      "100/100 [==============================] - 0s 5ms/step - loss: 0.0042 - mean_absolute_error: 0.0510\n",
      "Epoch 15/30\n",
      "100/100 [==============================] - 0s 5ms/step - loss: 0.0041 - mean_absolute_error: 0.0506\n",
      "Epoch 16/30\n",
      "100/100 [==============================] - 0s 5ms/step - loss: 0.0041 - mean_absolute_error: 0.0504\n",
      "Epoch 17/30\n",
      "100/100 [==============================] - 0s 5ms/step - loss: 0.0039 - mean_absolute_error: 0.0490\n",
      "Epoch 18/30\n",
      "100/100 [==============================] - 0s 5ms/step - loss: 0.0037 - mean_absolute_error: 0.0476\n",
      "Epoch 19/30\n",
      "100/100 [==============================] - 0s 5ms/step - loss: 0.0035 - mean_absolute_error: 0.0465\n",
      "Epoch 20/30\n",
      "100/100 [==============================] - 0s 5ms/step - loss: 0.0033 - mean_absolute_error: 0.0453\n",
      "Epoch 21/30\n",
      "100/100 [==============================] - 0s 5ms/step - loss: 0.0034 - mean_absolute_error: 0.0455\n",
      "Epoch 22/30\n",
      "100/100 [==============================] - 0s 5ms/step - loss: 0.0031 - mean_absolute_error: 0.0433\n",
      "Epoch 23/30\n",
      "100/100 [==============================] - 0s 5ms/step - loss: 0.0029 - mean_absolute_error: 0.0425\n",
      "Epoch 24/30\n",
      "100/100 [==============================] - 0s 5ms/step - loss: 0.0029 - mean_absolute_error: 0.0423\n",
      "Epoch 25/30\n",
      "100/100 [==============================] - 0s 5ms/step - loss: 0.0029 - mean_absolute_error: 0.0424\n",
      "Epoch 26/30\n",
      "100/100 [==============================] - 0s 5ms/step - loss: 0.0028 - mean_absolute_error: 0.0413\n",
      "Epoch 27/30\n",
      "100/100 [==============================] - 0s 5ms/step - loss: 0.0025 - mean_absolute_error: 0.0394\n",
      "Epoch 28/30\n",
      "100/100 [==============================] - 0s 5ms/step - loss: 0.0025 - mean_absolute_error: 0.0395\n",
      "Epoch 29/30\n",
      "100/100 [==============================] - 0s 5ms/step - loss: 0.0024 - mean_absolute_error: 0.0384\n",
      "Epoch 30/30\n",
      "100/100 [==============================] - 0s 5ms/step - loss: 0.0024 - mean_absolute_error: 0.0381\n"
     ]
    }
   ],
   "source": [
    "model_handbuilt_lstm.compile(\n",
    "    optimizer=keras.optimizers.Adam(0.01),  # Optimizer\n",
    "    # Loss function to minimize\n",
    "    loss=keras.losses.MeanSquaredError(),\n",
    "    # List of metrics to monitor\n",
    "    metrics=[keras.metrics.MeanAbsoluteError()],\n",
    ")\n",
    "\n",
    "history_handbuilt_lstm = model_handbuilt_lstm.fit(\n",
    "    x_train,\n",
    "    y_train,\n",
    "    batch_size=100,\n",
    "    epochs=epochs\n",
    ")"
   ]
  },
  {
   "cell_type": "markdown",
   "metadata": {
    "slideshow": {
     "slide_type": "slide"
    }
   },
   "source": [
    "- Now the network is trained, the scatter plot should line up nicely along $y=x$..."
   ]
  },
  {
   "cell_type": "code",
   "execution_count": 27,
   "metadata": {
    "slideshow": {
     "slide_type": "fragment"
    }
   },
   "outputs": [
    {
     "data": {
      "text/plain": [
       "<matplotlib.legend.Legend at 0x231e5b27340>"
      ]
     },
     "execution_count": 27,
     "metadata": {},
     "output_type": "execute_result"
    },
    {
     "data": {
      "image/png": "[encoded data removed]",
      "text/plain": [
       "<Figure size 432x288 with 1 Axes>"
      ]
     },
     "metadata": {
      "needs_background": "light"
     },
     "output_type": "display_data"
    }
   ],
   "source": [
    "# Let's plot the model's current behaviour:\n",
    "import matplotlib.pyplot as plt\n",
    "plt.scatter(y_train[:,0],model_handbuilt_lstm(x_train).numpy()[:,0],label=\"max points\")\n",
    "plt.scatter(y_train[:,1],model_handbuilt_lstm(x_train).numpy()[:,1],label=\"min points\")\n",
    "plt.xlabel(\"Target\")\n",
    "plt.ylabel(\"Prediction\")\n",
    "plt.legend()"
   ]
  },
  {
   "cell_type": "markdown",
   "metadata": {
    "slideshow": {
     "slide_type": "fragment"
    }
   },
   "source": [
    " - The LSTM is solving the problem well even for the long time sequence!   "
   ]
  },
  {
   "cell_type": "code",
   "execution_count": 28,
   "metadata": {
    "slideshow": {
     "slide_type": "slide"
    }
   },
   "outputs": [
    {
     "name": "stdout",
     "output_type": "stream",
     "text": [
      "tf.Tensor([[ 0.7265655 -0.9723742]], shape=(1, 2), dtype=float32)\n",
      "[[ 0.70384127 -0.93377435]]\n"
     ]
    }
   ],
   "source": [
    "# Try putting a single input into the network\n",
    "print(model_handbuilt_lstm(x_train[0:1,:,:]))\n",
    "# And compare to the target min/max output\n",
    "print(y_train[0:1,:])"
   ]
  },
  {
   "cell_type": "code",
   "execution_count": 29,
   "metadata": {
    "slideshow": {
     "slide_type": "slide"
    }
   },
   "outputs": [
    {
     "data": {
      "text/plain": [
       "Text(0.5, 0, 'epoch')"
      ]
     },
     "execution_count": 29,
     "metadata": {},
     "output_type": "execute_result"
    },
    {
     "data": {
      "image/png": "[encoded data removed]",
      "text/plain": [
       "<Figure size 432x288 with 1 Axes>"
      ]
     },
     "metadata": {
      "needs_background": "light"
     },
     "output_type": "display_data"
    }
   ],
   "source": [
    "plt.plot(history_handbuilt_lstm.history['mean_absolute_error'])\n",
    "plt.title('Model Training Performance')\n",
    "plt.ylabel('Mean Absolute Error')\n",
    "plt.xlabel('epoch')"
   ]
  },
  {
   "cell_type": "markdown",
   "metadata": {
    "slideshow": {
     "slide_type": "slide"
    }
   },
   "source": [
    "## Using Built-in Keras LSTM layer\n",
    "- The previous example showed how to build a LSTM-RNN by hand in Keras.  That exercise was just for educational purposes.\n",
    "- Normally we'd use the LSTM keras layer to build a RNN like this.\n",
    "\n",
    "<img src=\"./images/lstm_layer_network.svg\"  width=\"600\">\n",
    "\n",
    "- The code and implementation is as it was for the SimpleRNN layer in the previous workbook; but we just swap \"SimpleRNN\" for \"LSTM\", in the following code block:"
   ]
  },
  {
   "cell_type": "code",
   "execution_count": 30,
   "metadata": {
    "slideshow": {
     "slide_type": "slide"
    }
   },
   "outputs": [
    {
     "name": "stdout",
     "output_type": "stream",
     "text": [
      "Model: \"my_keras_lstm_network\"\n",
      "_________________________________________________________________\n",
      " Layer (type)                Output Shape              Param #   \n",
      "=================================================================\n",
      " lstm_1 (LSTM)               (None, 20)                1760      \n",
      "                                                                 \n",
      " dense_8 (Dense)             (None, 2)                 42        \n",
      "                                                                 \n",
      "=================================================================\n",
      "Total params: 1,802\n",
      "Trainable params: 1,802\n",
      "Non-trainable params: 0\n",
      "_________________________________________________________________\n"
     ]
    }
   ],
   "source": [
    "# Define Sequential LSTM model with 3 layers\n",
    "model_keras_lstm = keras.Sequential(name=\"my_keras_lstm_network\")\n",
    "model_keras_lstm.add(layers.LSTM(20, activation='tanh',input_shape=(time_sequence_length,input_vector_length,)))\n",
    "model_keras_lstm.add(layers.Dense(output_vector_length))\n",
    "model_keras_lstm.summary()"
   ]
  },
  {
   "cell_type": "markdown",
   "metadata": {
    "slideshow": {
     "slide_type": "slide"
    }
   },
   "source": [
    "As before, this model consumes a tensor of shape \\[training_set_size,time_sequence_length,input_vector_length\\] and outputs one of shape \\[training_set_size,output_vector_length\\]\n"
   ]
  },
  {
   "cell_type": "code",
   "execution_count": 31,
   "metadata": {
    "slideshow": {
     "slide_type": "slide"
    }
   },
   "outputs": [
    {
     "name": "stdout",
     "output_type": "stream",
     "text": [
      "Epoch 1/30\n",
      "100/100 [==============================] - 2s 7ms/step - loss: 0.1633 - mean_absolute_error: 0.3119\n",
      "Epoch 2/30\n",
      "100/100 [==============================] - 1s 7ms/step - loss: 0.0856 - mean_absolute_error: 0.2458\n",
      "Epoch 3/30\n",
      "100/100 [==============================] - 1s 7ms/step - loss: 0.0423 - mean_absolute_error: 0.1588\n",
      "Epoch 4/30\n",
      "100/100 [==============================] - 1s 7ms/step - loss: 0.0110 - mean_absolute_error: 0.0817\n",
      "Epoch 5/30\n",
      "100/100 [==============================] - 1s 7ms/step - loss: 0.0092 - mean_absolute_error: 0.0748\n",
      "Epoch 6/30\n",
      "100/100 [==============================] - 1s 7ms/step - loss: 0.0087 - mean_absolute_error: 0.0728\n",
      "Epoch 7/30\n",
      "100/100 [==============================] - 1s 7ms/step - loss: 0.0075 - mean_absolute_error: 0.0674\n",
      "Epoch 8/30\n",
      "100/100 [==============================] - 1s 7ms/step - loss: 0.0066 - mean_absolute_error: 0.0640\n",
      "Epoch 9/30\n",
      "100/100 [==============================] - 1s 7ms/step - loss: 0.0061 - mean_absolute_error: 0.0616\n",
      "Epoch 10/30\n",
      "100/100 [==============================] - 1s 7ms/step - loss: 0.0052 - mean_absolute_error: 0.0565\n",
      "Epoch 11/30\n",
      "100/100 [==============================] - 1s 7ms/step - loss: 0.0053 - mean_absolute_error: 0.0576\n",
      "Epoch 12/30\n",
      "100/100 [==============================] - 1s 7ms/step - loss: 0.0048 - mean_absolute_error: 0.0548\n",
      "Epoch 13/30\n",
      "100/100 [==============================] - 1s 7ms/step - loss: 0.0045 - mean_absolute_error: 0.0527\n",
      "Epoch 14/30\n",
      "100/100 [==============================] - 1s 7ms/step - loss: 0.0042 - mean_absolute_error: 0.0512\n",
      "Epoch 15/30\n",
      "100/100 [==============================] - 1s 7ms/step - loss: 0.0041 - mean_absolute_error: 0.0503\n",
      "Epoch 16/30\n",
      "100/100 [==============================] - 1s 7ms/step - loss: 0.0040 - mean_absolute_error: 0.0497\n",
      "Epoch 17/30\n",
      "100/100 [==============================] - 1s 7ms/step - loss: 0.0039 - mean_absolute_error: 0.0492\n",
      "Epoch 18/30\n",
      "100/100 [==============================] - 1s 7ms/step - loss: 0.0039 - mean_absolute_error: 0.0488\n",
      "Epoch 19/30\n",
      "100/100 [==============================] - 1s 7ms/step - loss: 0.0037 - mean_absolute_error: 0.0476\n",
      "Epoch 20/30\n",
      "100/100 [==============================] - 1s 7ms/step - loss: 0.0036 - mean_absolute_error: 0.0469\n",
      "Epoch 21/30\n",
      "100/100 [==============================] - 1s 7ms/step - loss: 0.0033 - mean_absolute_error: 0.0450\n",
      "Epoch 22/30\n",
      "100/100 [==============================] - 1s 7ms/step - loss: 0.0033 - mean_absolute_error: 0.0450\n",
      "Epoch 23/30\n",
      "100/100 [==============================] - 1s 7ms/step - loss: 0.0032 - mean_absolute_error: 0.0444\n",
      "Epoch 24/30\n",
      "100/100 [==============================] - 1s 7ms/step - loss: 0.0032 - mean_absolute_error: 0.0446\n",
      "Epoch 25/30\n",
      "100/100 [==============================] - 1s 7ms/step - loss: 0.0030 - mean_absolute_error: 0.0432\n",
      "Epoch 26/30\n",
      "100/100 [==============================] - 1s 7ms/step - loss: 0.0028 - mean_absolute_error: 0.0416\n",
      "Epoch 27/30\n",
      "100/100 [==============================] - 1s 7ms/step - loss: 0.0029 - mean_absolute_error: 0.0425\n",
      "Epoch 28/30\n",
      "100/100 [==============================] - 1s 7ms/step - loss: 0.0029 - mean_absolute_error: 0.0423\n",
      "Epoch 29/30\n",
      "100/100 [==============================] - 1s 7ms/step - loss: 0.0028 - mean_absolute_error: 0.0412\n",
      "Epoch 30/30\n",
      "100/100 [==============================] - 1s 7ms/step - loss: 0.0026 - mean_absolute_error: 0.0402\n"
     ]
    }
   ],
   "source": [
    "model_keras_lstm.compile(\n",
    "    optimizer=keras.optimizers.Adam(0.01),  # Optimizer\n",
    "    # Loss function to minimize\n",
    "    loss=keras.losses.MeanSquaredError(),\n",
    "    # List of metrics to monitor\n",
    "    metrics=[keras.metrics.MeanAbsoluteError()],\n",
    ")\n",
    "\n",
    "history_keras_lstm = model_keras_lstm.fit(\n",
    "    x_train,\n",
    "    y_train,\n",
    "    batch_size=100,\n",
    "    epochs=epochs\n",
    ")"
   ]
  },
  {
   "cell_type": "code",
   "execution_count": 32,
   "metadata": {
    "slideshow": {
     "slide_type": "slide"
    }
   },
   "outputs": [
    {
     "data": {
      "text/plain": [
       "<matplotlib.legend.Legend at 0x231e9e52620>"
      ]
     },
     "execution_count": 32,
     "metadata": {},
     "output_type": "execute_result"
    },
    {
     "data": {
      "image/png": "[encoded data removed]",
      "text/plain": [
       "<Figure size 432x288 with 1 Axes>"
      ]
     },
     "metadata": {
      "needs_background": "light"
     },
     "output_type": "display_data"
    }
   ],
   "source": [
    "# Let's plot the model's current behaviour:\n",
    "plt.scatter(y_train[:,0],model_keras_lstm(x_train).numpy()[:,0],label=\"max points\")\n",
    "plt.scatter(y_train[:,1],model_keras_lstm(x_train).numpy()[:,1],label=\"min points\")\n",
    "plt.xlabel(\"Target\")\n",
    "plt.ylabel(\"Prediction\")\n",
    "plt.legend()"
   ]
  },
  {
   "cell_type": "code",
   "execution_count": 33,
   "metadata": {
    "slideshow": {
     "slide_type": "slide"
    }
   },
   "outputs": [
    {
     "data": {
      "text/plain": [
       "<matplotlib.legend.Legend at 0x231e5b4ee60>"
      ]
     },
     "execution_count": 33,
     "metadata": {},
     "output_type": "execute_result"
    },
    {
     "data": {
      "image/png": "[encoded data removed]",
      "text/plain": [
       "<Figure size 432x288 with 1 Axes>"
      ]
     },
     "metadata": {
      "needs_background": "light"
     },
     "output_type": "display_data"
    }
   ],
   "source": [
    "plt.plot(history_keras_lstm.history['mean_absolute_error'],label=\"keras LSTM\")\n",
    "plt.plot(history_handbuilt_lstm.history['mean_absolute_error'],label=\"hand-built LSTM\")\n",
    "plt.title('Model Training Performance')\n",
    "plt.ylabel('mean absolute error')\n",
    "plt.xlabel('epoch')\n",
    "plt.legend()"
   ]
  },
  {
   "cell_type": "markdown",
   "metadata": {
    "slideshow": {
     "slide_type": "fragment"
    }
   },
   "source": [
    "- Ok, we've shown the capabilities of the hand-built layer and the Keras LSTM layer nicely match.  "
   ]
  },
  {
   "cell_type": "markdown",
   "metadata": {
    "slideshow": {
     "slide_type": "slide"
    }
   },
   "source": [
    "## Compare to SimpleRNN\n",
    "- Let's check the performance using the LSTM really beats the SimpleRNN, which we'll rebuild again here for comparison..."
   ]
  },
  {
   "cell_type": "code",
   "execution_count": 34,
   "metadata": {
    "slideshow": {
     "slide_type": "fragment"
    }
   },
   "outputs": [
    {
     "name": "stdout",
     "output_type": "stream",
     "text": [
      "Epoch 1/30\n",
      "100/100 [==============================] - 1s 3ms/step - loss: 0.1637 - mean_absolute_error: 0.3114\n",
      "Epoch 2/30\n",
      "100/100 [==============================] - 0s 3ms/step - loss: 0.0952 - mean_absolute_error: 0.2558\n",
      "Epoch 3/30\n",
      "100/100 [==============================] - 0s 3ms/step - loss: 0.0813 - mean_absolute_error: 0.2317\n",
      "Epoch 4/30\n",
      "100/100 [==============================] - 0s 3ms/step - loss: 0.0917 - mean_absolute_error: 0.2435\n",
      "Epoch 5/30\n",
      "100/100 [==============================] - 0s 3ms/step - loss: 0.0596 - mean_absolute_error: 0.1931\n",
      "Epoch 6/30\n",
      "100/100 [==============================] - 0s 3ms/step - loss: 0.0630 - mean_absolute_error: 0.1956\n",
      "Epoch 7/30\n",
      "100/100 [==============================] - 0s 3ms/step - loss: 0.0429 - mean_absolute_error: 0.1626\n",
      "Epoch 8/30\n",
      "100/100 [==============================] - 0s 3ms/step - loss: 0.0353 - mean_absolute_error: 0.1490\n",
      "Epoch 9/30\n",
      "100/100 [==============================] - 0s 3ms/step - loss: 0.0354 - mean_absolute_error: 0.1473\n",
      "Epoch 10/30\n",
      "100/100 [==============================] - 0s 3ms/step - loss: 0.0373 - mean_absolute_error: 0.1509\n",
      "Epoch 11/30\n",
      "100/100 [==============================] - 0s 3ms/step - loss: 0.0339 - mean_absolute_error: 0.1449\n",
      "Epoch 12/30\n",
      "100/100 [==============================] - 0s 3ms/step - loss: 0.0311 - mean_absolute_error: 0.1394\n",
      "Epoch 13/30\n",
      "100/100 [==============================] - 0s 3ms/step - loss: 0.0309 - mean_absolute_error: 0.1389\n",
      "Epoch 14/30\n",
      "100/100 [==============================] - 0s 3ms/step - loss: 0.0280 - mean_absolute_error: 0.1323\n",
      "Epoch 15/30\n",
      "100/100 [==============================] - 0s 3ms/step - loss: 0.0284 - mean_absolute_error: 0.1329\n",
      "Epoch 16/30\n",
      "100/100 [==============================] - 0s 3ms/step - loss: 0.2288 - mean_absolute_error: 0.3608\n",
      "Epoch 17/30\n",
      "100/100 [==============================] - 0s 3ms/step - loss: 0.1572 - mean_absolute_error: 0.3175\n",
      "Epoch 18/30\n",
      "100/100 [==============================] - 0s 3ms/step - loss: 0.1285 - mean_absolute_error: 0.2925\n",
      "Epoch 19/30\n",
      "100/100 [==============================] - 0s 3ms/step - loss: 0.1240 - mean_absolute_error: 0.2878\n",
      "Epoch 20/30\n",
      "100/100 [==============================] - 0s 3ms/step - loss: 0.1174 - mean_absolute_error: 0.2807\n",
      "Epoch 21/30\n",
      "100/100 [==============================] - 0s 3ms/step - loss: 0.1174 - mean_absolute_error: 0.2801\n",
      "Epoch 22/30\n",
      "100/100 [==============================] - 0s 3ms/step - loss: 0.1093 - mean_absolute_error: 0.2719\n",
      "Epoch 23/30\n",
      "100/100 [==============================] - 0s 3ms/step - loss: 0.1027 - mean_absolute_error: 0.2655\n",
      "Epoch 24/30\n",
      "100/100 [==============================] - 0s 3ms/step - loss: 0.1044 - mean_absolute_error: 0.2671\n",
      "Epoch 25/30\n",
      "100/100 [==============================] - 0s 3ms/step - loss: 0.1015 - mean_absolute_error: 0.2645\n",
      "Epoch 26/30\n",
      "100/100 [==============================] - 0s 3ms/step - loss: 0.1019 - mean_absolute_error: 0.2651\n",
      "Epoch 27/30\n",
      "100/100 [==============================] - 0s 3ms/step - loss: 0.1018 - mean_absolute_error: 0.2642\n",
      "Epoch 28/30\n",
      "100/100 [==============================] - 0s 3ms/step - loss: 0.1026 - mean_absolute_error: 0.2660\n",
      "Epoch 29/30\n",
      "100/100 [==============================] - 0s 3ms/step - loss: 0.1008 - mean_absolute_error: 0.2635\n",
      "Epoch 30/30\n",
      "100/100 [==============================] - 0s 3ms/step - loss: 0.1013 - mean_absolute_error: 0.2638\n"
     ]
    }
   ],
   "source": [
    "# Define Sequential LSTM model with 3 layers\n",
    "model_keras_simple_rnn = keras.Sequential()\n",
    "model_keras_simple_rnn.add(layers.SimpleRNN(20, activation='tanh',input_shape=(time_sequence_length,input_vector_length,)))\n",
    "model_keras_simple_rnn.add(layers.Dense(output_vector_length))\n",
    "\n",
    "model_keras_simple_rnn.compile(\n",
    "    optimizer=keras.optimizers.Adam(0.01),  # Optimizer\n",
    "    # Loss function to minimize\n",
    "    loss=keras.losses.MeanSquaredError(),\n",
    "    # List of metrics to monitor\n",
    "    metrics=[keras.metrics.MeanAbsoluteError()],\n",
    ")\n",
    "\n",
    "history_keras_simple_rnn = model_keras_simple_rnn.fit(\n",
    "    x_train,\n",
    "    y_train,\n",
    "    batch_size=100,\n",
    "    epochs=epochs\n",
    ")"
   ]
  },
  {
   "cell_type": "code",
   "execution_count": 35,
   "metadata": {
    "slideshow": {
     "slide_type": "slide"
    }
   },
   "outputs": [
    {
     "data": {
      "text/plain": [
       "<matplotlib.legend.Legend at 0x231e9e82ec0>"
      ]
     },
     "execution_count": 35,
     "metadata": {},
     "output_type": "execute_result"
    },
    {
     "data": {
      "image/png": "[encoded data removed]",
      "text/plain": [
       "<Figure size 432x288 with 1 Axes>"
      ]
     },
     "metadata": {
      "needs_background": "light"
     },
     "output_type": "display_data"
    }
   ],
   "source": [
    "plt.plot(history_keras_lstm.history['mean_absolute_error'],label=\"keras LSTM\")\n",
    "plt.plot(history_handbuilt_lstm.history['mean_absolute_error'],label=\"hand-built LSTM\")\n",
    "plt.plot(history_keras_simple_rnn.history['mean_absolute_error'],label=\"Keras SimpleRNN\")\n",
    "plt.title('Model Training Performance')\n",
    "plt.ylabel('mean absolute error')\n",
    "plt.xlabel('epoch')\n",
    "plt.legend()"
   ]
  },
  {
   "cell_type": "markdown",
   "metadata": {
    "slideshow": {
     "slide_type": "fragment"
    }
   },
   "source": [
    "- The above graph shows that LSTM really performs a lot better than the SimpleRNN implementation, especially when time_sequence_length >> 10."
   ]
  },
  {
   "cell_type": "markdown",
   "metadata": {
    "slideshow": {
     "slide_type": "slide"
    }
   },
   "source": [
    "## Summary\n",
    "\n",
    "- We've seen how an LSTM can learn longer time sequences more easily than a SimpleRNN can.\n",
    "- We should understand that a LSTM is a RNN (but with sophisticated \"memory gates\" added).\n",
    "- The LSTM's memory gates let it hold on to information for longer than a simple RNN can.\n"
   ]
  },
  {
   "cell_type": "markdown",
   "metadata": {
    "slideshow": {
     "slide_type": "slide"
    }
   },
   "source": [
    "## Further reading - GRUs\n",
    "\n",
    "- A [Gated Recurrent Unit](https://en.wikipedia.org/wiki/Gated_recurrent_unit) (GRU) is a simpler variant than the LSTM.  It has half the number of weights and roughly the same performance.  \n",
    "- It can easily be implemented in Keras just by changing \"SimpleRNN\" to \"GRU\".\n",
    "- See https://www.tensorflow.org/api_docs/python/tf/keras/layers/GRU \n",
    "\n",
    "\n",
    "- Look at the LSTM equations (written as equations instead of code) here https://en.wikipedia.org/wiki/Long_short-term_memory\n",
    "    "
   ]
  },
  {
   "cell_type": "markdown",
   "metadata": {
    "slideshow": {
     "slide_type": "fragment"
    }
   },
   "source": [
    "## Further Exercise\n",
    "- Change the SimpleRNN model above into a GRU model.  Compare its performance to the LSTM model.  **Try This**\n"
   ]
  },
  {
   "cell_type": "code",
   "execution_count": 36,
   "metadata": {},
   "outputs": [
    {
     "name": "stdout",
     "output_type": "stream",
     "text": [
      "Epoch 1/30\n",
      "100/100 [==============================] - 1s 7ms/step - loss: 0.1218 - mean_absolute_error: 0.2596\n",
      "Epoch 2/30\n",
      "100/100 [==============================] - 1s 7ms/step - loss: 0.0112 - mean_absolute_error: 0.0824\n",
      "Epoch 3/30\n",
      "100/100 [==============================] - 1s 7ms/step - loss: 0.0073 - mean_absolute_error: 0.0671\n",
      "Epoch 4/30\n",
      "100/100 [==============================] - 1s 7ms/step - loss: 0.0065 - mean_absolute_error: 0.0634\n",
      "Epoch 5/30\n",
      "100/100 [==============================] - 1s 7ms/step - loss: 0.0057 - mean_absolute_error: 0.0594\n",
      "Epoch 6/30\n",
      "100/100 [==============================] - 1s 7ms/step - loss: 0.0050 - mean_absolute_error: 0.0559\n",
      "Epoch 7/30\n",
      "100/100 [==============================] - 1s 7ms/step - loss: 0.0043 - mean_absolute_error: 0.0517\n",
      "Epoch 8/30\n",
      "100/100 [==============================] - 1s 7ms/step - loss: 0.0040 - mean_absolute_error: 0.0495\n",
      "Epoch 9/30\n",
      "100/100 [==============================] - 1s 7ms/step - loss: 0.0037 - mean_absolute_error: 0.0477\n",
      "Epoch 10/30\n",
      "100/100 [==============================] - 1s 7ms/step - loss: 0.0033 - mean_absolute_error: 0.0454\n",
      "Epoch 11/30\n",
      "100/100 [==============================] - 1s 7ms/step - loss: 0.0031 - mean_absolute_error: 0.0439\n",
      "Epoch 12/30\n",
      "100/100 [==============================] - 1s 7ms/step - loss: 0.0029 - mean_absolute_error: 0.0426\n",
      "Epoch 13/30\n",
      "100/100 [==============================] - 1s 7ms/step - loss: 0.0029 - mean_absolute_error: 0.0425\n",
      "Epoch 14/30\n",
      "100/100 [==============================] - 1s 7ms/step - loss: 0.0026 - mean_absolute_error: 0.0402\n",
      "Epoch 15/30\n",
      "100/100 [==============================] - 1s 7ms/step - loss: 0.0024 - mean_absolute_error: 0.0388\n",
      "Epoch 16/30\n",
      "100/100 [==============================] - 1s 7ms/step - loss: 0.0023 - mean_absolute_error: 0.0378\n",
      "Epoch 17/30\n",
      "100/100 [==============================] - 1s 7ms/step - loss: 0.0022 - mean_absolute_error: 0.0370\n",
      "Epoch 18/30\n",
      "100/100 [==============================] - 1s 7ms/step - loss: 0.0020 - mean_absolute_error: 0.0355\n",
      "Epoch 19/30\n",
      "100/100 [==============================] - 1s 7ms/step - loss: 0.0019 - mean_absolute_error: 0.0346\n",
      "Epoch 20/30\n",
      "100/100 [==============================] - 1s 7ms/step - loss: 0.0018 - mean_absolute_error: 0.0335\n",
      "Epoch 21/30\n",
      "100/100 [==============================] - 1s 7ms/step - loss: 0.0017 - mean_absolute_error: 0.0326\n",
      "Epoch 22/30\n",
      "100/100 [==============================] - 1s 7ms/step - loss: 0.0017 - mean_absolute_error: 0.0322\n",
      "Epoch 23/30\n",
      "100/100 [==============================] - 1s 7ms/step - loss: 0.0016 - mean_absolute_error: 0.0319\n",
      "Epoch 24/30\n",
      "100/100 [==============================] - 1s 7ms/step - loss: 0.0014 - mean_absolute_error: 0.0298\n",
      "Epoch 25/30\n",
      "100/100 [==============================] - 1s 7ms/step - loss: 0.0014 - mean_absolute_error: 0.0297\n",
      "Epoch 26/30\n",
      "100/100 [==============================] - 1s 7ms/step - loss: 0.0014 - mean_absolute_error: 0.0294\n",
      "Epoch 27/30\n",
      "100/100 [==============================] - 1s 7ms/step - loss: 0.0013 - mean_absolute_error: 0.0285\n",
      "Epoch 28/30\n",
      "100/100 [==============================] - 1s 7ms/step - loss: 0.0013 - mean_absolute_error: 0.0283\n",
      "Epoch 29/30\n",
      "100/100 [==============================] - 1s 7ms/step - loss: 0.0012 - mean_absolute_error: 0.0271\n",
      "Epoch 30/30\n",
      "100/100 [==============================] - 1s 7ms/step - loss: 0.0012 - mean_absolute_error: 0.0275\n"
     ]
    }
   ],
   "source": [
    "# Define Sequential GRU model with 3 layers\n",
    "model_keras_gru = keras.Sequential()\n",
    "model_keras_gru.add(layers.GRU(20, activation='tanh',input_shape=(time_sequence_length,input_vector_length,)))\n",
    "model_keras_gru.add(layers.Dense(output_vector_length))\n",
    "\n",
    "model_keras_gru.compile(\n",
    "    optimizer=keras.optimizers.Adam(0.01),  # Optimizer\n",
    "    # Loss function to minimize\n",
    "    loss=keras.losses.MeanSquaredError(),\n",
    "    # List of metrics to monitor\n",
    "    metrics=[keras.metrics.MeanAbsoluteError()],\n",
    ")\n",
    "\n",
    "history_keras_gru = model_keras_gru.fit(\n",
    "    x_train,\n",
    "    y_train,\n",
    "    batch_size=100,\n",
    "    epochs=epochs\n",
    ")"
   ]
  },
  {
   "cell_type": "code",
   "execution_count": 37,
   "metadata": {},
   "outputs": [
    {
     "data": {
      "text/plain": [
       "<matplotlib.legend.Legend at 0x231dc48b820>"
      ]
     },
     "execution_count": 37,
     "metadata": {},
     "output_type": "execute_result"
    },
    {
     "data": {
      "image/png": "[encoded data removed]",
      "text/plain": [
       "<Figure size 432x288 with 1 Axes>"
      ]
     },
     "metadata": {
      "needs_background": "light"
     },
     "output_type": "display_data"
    }
   ],
   "source": [
    "plt.plot(history_keras_lstm.history['mean_absolute_error'],label=\"keras LSTM\")\n",
    "plt.plot(history_handbuilt_lstm.history['mean_absolute_error'],label=\"hand-built LSTM\")\n",
    "plt.plot(history_keras_simple_rnn.history['mean_absolute_error'],label=\"Keras SimpleRNN\")\n",
    "plt.plot(history_keras_gru.history['mean_absolute_error'],label=\"Keras GRU\")\n",
    "plt.title('Model Training Performance')\n",
    "plt.ylabel('mean absolute error')\n",
    "plt.xlabel('epoch')\n",
    "plt.legend()"
   ]
  }
 ],
 "metadata": {
  "kernelspec": {
   "display_name": "Python 3 (ipykernel)",
   "language": "python",
   "name": "python3"
  },
  "language_info": {
   "codemirror_mode": {
    "name": "ipython",
    "version": 3
   },
   "file_extension": ".py",
   "mimetype": "text/x-python",
   "name": "python",
   "nbconvert_exporter": "python",
   "pygments_lexer": "ipython3",
   "version": "3.10.5"
  }
 },
 "nbformat": 4,
 "nbformat_minor": 4
}
